{
 "cells": [
  {
   "cell_type": "markdown",
   "id": "e9b650c1",
   "metadata": {},
   "source": [
    "**Association between Device Type and Customer Satisfaction**"
   ]
  },
  {
   "cell_type": "markdown",
   "id": "fbacea02",
   "metadata": {},
   "source": [
    "**Background:**\n",
    "\n",
    "Mizzare Corporation has collected data on customer satisfaction levels for two types of smart home devices: Smart Thermostats and Smart Lights.\n",
    "They want to determine if there's a significant association between the type of device purchased and the customer's satisfaction level.\n",
    "\n",
    "**Data Provided:**\n",
    "\n",
    "The data is summarized in a contingency table showing the counts of customers in each satisfaction level for both types of devices:"
   ]
  },
  {
   "cell_type": "markdown",
   "id": "accf134b",
   "metadata": {},
   "source": [
    "Satisfaction | Smart Thermostat | Smart Light |\tTotal\n",
    "------------ | ---------------- | ----------- | -----\n",
    "Very Satisfied |\t50 |\t70 |\t120\n",
    "Satisfied |\t80 |\t100 |\t180\n",
    "Neutral |\t60 |\t90 |\t150\n",
    "Unsatisfied |\t30 |\t50 |\t80\n",
    "Very Unsatisfied |\t20 |\t50 |\t70\n",
    "Total |\t240 |\t360 |\t600"
   ]
  },
  {
   "cell_type": "markdown",
   "id": "f44bf331",
   "metadata": {},
   "source": [
    "## Objective:\n",
    "\n",
    "To use the Chi-Square test for independence to determine if there's a significant association between the type of smart home device purchased (Smart Thermostats vs. Smart Lights) and the customer satisfaction level"
   ]
  },
  {
   "cell_type": "markdown",
   "id": "bc1a8c1b",
   "metadata": {},
   "source": [
    "## Steps to perform test"
   ]
  },
  {
   "cell_type": "markdown",
   "id": "7672a252",
   "metadata": {},
   "source": [
    "## Association between Device Type and Customer Satisfaction\n",
    "## H0=if there is not a significant association between the type of smart home device purchased (Smart Thermostats vs. Smart Lights) and the customer satisfaction level.\n",
    "## Ha=if theres a significant association between the type of smart home device purchased (Smart Thermostats vs. Smart Lights) and the customer satisfaction level."
   ]
  },
  {
   "cell_type": "code",
   "execution_count": 5,
   "id": "4f20a94d",
   "metadata": {},
   "outputs": [],
   "source": [
    "import numpy as np\n",
    "from scipy.stats import chi2_contingency"
   ]
  },
  {
   "cell_type": "markdown",
   "id": "9781d793",
   "metadata": {},
   "source": [
    "## Compute Chisquare statistics\n",
    "alpha = 0.05\n",
    "CI = 95%\n",
    "## formulaa used\n",
    "χ2=∑(𝑂𝑖−𝐸𝑖)2 / 𝐸𝑖\n",
    "\n",
    "\n",
    "where Oi is the observed frequency and Ei is the expected frequency\n"
   ]
  },
  {
   "cell_type": "markdown",
   "id": "4f4c5ede",
   "metadata": {},
   "source": [
    "## determine the DF\n",
    "**Determine the degrees of freedom (df)**\n",
    "\n",
    "$df = (r -1) * (c-1)$\n",
    "\n",
    "where r is the number of rows and c is the number of columns."
   ]
  },
  {
   "cell_type": "markdown",
   "id": "f95b9998",
   "metadata": {},
   "source": [
    "## Compare chisquare statistics:to the critical value from chisquare distribution table at choosen significance level(usually=0.05)"
   ]
  },
  {
   "cell_type": "markdown",
   "id": "0c77de32",
   "metadata": {},
   "source": [
    "##Lets perform test"
   ]
  },
  {
   "cell_type": "markdown",
   "id": "ae24bba7",
   "metadata": {},
   "source": [
    "**Step1: Calculate Expected Frequencies**\n",
    "    \n",
    "The Expected Frequencies calculated for each cell as:\n",
    "    \n",
    "$E_{ij} = \\frac{(Row Total) * (Column Total)}{Grand Total}$\n",
    "    "
   ]
  },
  {
   "cell_type": "markdown",
   "id": "2ce778b2",
   "metadata": {},
   "source": [
    "## Step 2: compute chisquare statistics"
   ]
  },
  {
   "cell_type": "code",
   "execution_count": 15,
   "id": "a6911bd1",
   "metadata": {},
   "outputs": [
    {
     "name": "stdout",
     "output_type": "stream",
     "text": [
      "Chi-Square statistic (χ²): 5.638227513227513\n",
      "p-value: 0.22784371130697179\n",
      "Degrees of freedom (df): 4\n",
      "Expected frequencies:\n",
      "[[ 48.  72.]\n",
      " [ 72. 108.]\n",
      " [ 60.  90.]\n",
      " [ 32.  48.]\n",
      " [ 28.  42.]]\n"
     ]
    }
   ],
   "source": [
    "# Observed frequencies\n",
    "observed = np.array([\n",
    "    [50, 70],\n",
    "    [80, 100],\n",
    "    [60, 90],\n",
    "    [30, 50],\n",
    "    [20, 50]\n",
    "])\n",
    "\n",
    "# Perform the Chi-Square test\n",
    "chi2, p, dof, expected = chi2_contingency(observed)\n",
    "\n",
    "print(\"Chi-Square statistic (χ²):\", chi2)\n",
    "print(\"p-value:\", p)\n",
    "print(\"Degrees of freedom (df):\", dof)\n",
    "print(\"Expected frequencies:\")\n",
    "print(expected)"
   ]
  },
  {
   "cell_type": "markdown",
   "id": "4a145896",
   "metadata": {},
   "source": [
    "## Interpretation\n",
    "p-value is 0.2278 & significance value is 0.05\n",
    "\n",
    "p-value > significance level\n",
    "\n",
    "means fail to reject H0 hypothesis"
   ]
  },
  {
   "cell_type": "markdown",
   "id": "3a3d89f7",
   "metadata": {},
   "source": [
    "## Conclusion:\n",
    "\n",
    "There is no statistically significant association between the type of smart home device (Smart Thermostats vs. Smart Lights) and the customer satisfaction level. The distribution of satisfaction levels appears to be independent of the type of device purchased"
   ]
  },
  {
   "cell_type": "code",
   "execution_count": null,
   "id": "d4a8bbee",
   "metadata": {},
   "outputs": [],
   "source": []
  }
 ],
 "metadata": {
  "kernelspec": {
   "display_name": "Python 3 (ipykernel)",
   "language": "python",
   "name": "python3"
  },
  "language_info": {
   "codemirror_mode": {
    "name": "ipython",
    "version": 3
   },
   "file_extension": ".py",
   "mimetype": "text/x-python",
   "name": "python",
   "nbconvert_exporter": "python",
   "pygments_lexer": "ipython3",
   "version": "3.11.7"
  }
 },
 "nbformat": 4,
 "nbformat_minor": 5
}
